{
 "cells": [
  {
   "cell_type": "code",
   "execution_count": 1,
   "id": "24e6d759",
   "metadata": {},
   "outputs": [],
   "source": [
    "import numpy as np\n",
    "import pandas as pd\n",
    "import matplotlib.pyplot as plt\n",
    "import seaborn as sns\n",
    "from scipy.stats import zscore\n",
    "from sklearn.model_selection import train_test_split \n",
    "from sklearn.linear_model import LinearRegression\n",
    "from sklearn.preprocessing import PolynomialFeatures\n",
    "from matplotlib import rcParams\n",
    "from sklearn.preprocessing import StandardScaler\n",
    "from sklearn.metrics import r2_score "
   ]
  },
  {
   "cell_type": "code",
   "execution_count": 2,
   "id": "6f65830c",
   "metadata": {},
   "outputs": [],
   "source": [
    "# 1. Read the CPU data:"
   ]
  },
  {
   "cell_type": "code",
   "execution_count": 3,
   "id": "c2e87807",
   "metadata": {},
   "outputs": [],
   "source": [
    "df = pd.read_csv(\"https://raw.githubusercontent.com/grbruns/cst383/master/machine.csv\")\n",
    "df.index = df['vendor']+' '+df['model']\n",
    "df.drop(['vendor', 'model'], axis=1, inplace=True)\n",
    "df['cs'] = np.round(1e3/df['myct'], 2)\t# clock speed in MHz "
   ]
  },
  {
   "cell_type": "code",
   "execution_count": 4,
   "id": "9b1dc1ed",
   "metadata": {},
   "outputs": [],
   "source": [
    "# 2. From the machine data, create training and test sets, using a 70/30 split.  \n",
    "# See the linear regression 2 slides if needed."
   ]
  },
  {
   "cell_type": "code",
   "execution_count": 5,
   "id": "b3d3acac",
   "metadata": {},
   "outputs": [],
   "source": [
    "train, test = train_test_split(df, test_size=0.3)"
   ]
  },
  {
   "cell_type": "code",
   "execution_count": 6,
   "id": "8978fbf5",
   "metadata": {},
   "outputs": [],
   "source": [
    "# 3. This lab is open-ended.  \n",
    "# I want you to experiment with building linear models using interactions and nonlinear transformations, as discussed in class.  \n",
    "# The goal is still to predict performance (feature ‘prp’).  \n",
    "# Start simple."
   ]
  },
  {
   "cell_type": "code",
   "execution_count": 7,
   "id": "6057b75a",
   "metadata": {},
   "outputs": [],
   "source": [
    "# 4. Predict prp using your test set, and write your own code to compute the RMSE. "
   ]
  },
  {
   "cell_type": "code",
   "execution_count": 8,
   "id": "d243eca2",
   "metadata": {},
   "outputs": [],
   "source": [
    "# 5. For each experiment, I want you to pick some features, transform them in some way (or not at all), and then build a linear model using the training data.  Write down the RMSE you get on the test data.  Note: if you transform ‘prp’, you will need to account for that when you compute RMSE!"
   ]
  },
  {
   "cell_type": "code",
   "execution_count": 9,
   "id": "276d1f07",
   "metadata": {},
   "outputs": [],
   "source": [
    "# 6. See which features and transformations give you the best RMSE scores."
   ]
  },
  {
   "cell_type": "code",
   "execution_count": 10,
   "id": "0d0b1020",
   "metadata": {},
   "outputs": [
    {
     "data": {
      "text/plain": [
       "['x0',\n",
       " 'x1',\n",
       " 'x2',\n",
       " 'x0^2',\n",
       " 'x0 x1',\n",
       " 'x0 x2',\n",
       " 'x1^2',\n",
       " 'x1 x2',\n",
       " 'x2^2',\n",
       " 'x0^3',\n",
       " 'x0^2 x1',\n",
       " 'x0^2 x2',\n",
       " 'x0 x1^2',\n",
       " 'x0 x1 x2',\n",
       " 'x0 x2^2',\n",
       " 'x1^3',\n",
       " 'x1^2 x2',\n",
       " 'x1 x2^2',\n",
       " 'x2^3']"
      ]
     },
     "execution_count": 10,
     "metadata": {},
     "output_type": "execute_result"
    }
   ],
   "source": [
    "X = df[['cach', 'cs', 'mmax']].values\n",
    "y = df['prp'].values\n",
    "\n",
    "pf = PolynomialFeatures(degree=3, include_bias=False)\n",
    "pf.fit(X)\n",
    "\n",
    "X_poly = pf.transform(X)\n",
    "X_poly.shape\n",
    "pf.get_feature_names()"
   ]
  },
  {
   "cell_type": "code",
   "execution_count": 11,
   "id": "5cffe72f",
   "metadata": {},
   "outputs": [
    {
     "data": {
      "text/plain": [
       "LinearRegression()"
      ]
     },
     "execution_count": 11,
     "metadata": {},
     "output_type": "execute_result"
    }
   ],
   "source": [
    "reg = LinearRegression()\n",
    "reg.fit(X_poly, y)"
   ]
  },
  {
   "cell_type": "code",
   "execution_count": 12,
   "id": "be856703",
   "metadata": {},
   "outputs": [
    {
     "data": {
      "text/plain": [
       "array([ 8.65740866e-01,  6.89412290e-01,  2.11052141e-03, -7.46265343e-03,\n",
       "       -4.49838766e-02,  9.32960615e-05, -6.89068066e-02,  7.16062552e-05,\n",
       "       -7.39244031e-08,  2.35469071e-05,  5.71299925e-04, -7.81327495e-07,\n",
       "        1.59102162e-03, -6.52552044e-06,  5.84464242e-09, -1.79210402e-03,\n",
       "        1.13192664e-05, -3.37147024e-09, -2.55653316e-12])"
      ]
     },
     "execution_count": 12,
     "metadata": {},
     "output_type": "execute_result"
    }
   ],
   "source": [
    "reg.score(X_poly, y)\n",
    "reg.intercept_\n",
    "reg.coef_"
   ]
  },
  {
   "cell_type": "code",
   "execution_count": 13,
   "id": "68d77e81",
   "metadata": {},
   "outputs": [
    {
     "data": {
      "text/plain": [
       "100.25898336603332"
      ]
     },
     "execution_count": 13,
     "metadata": {},
     "output_type": "execute_result"
    }
   ],
   "source": [
    "# were we overfitting?\n",
    "\n",
    "X_train, X_test, y_train, y_test = train_test_split(X, y, test_size=0.20, random_state=42)\n",
    "reg.fit(X_train, y_train)\n",
    "predict = reg.predict(X_test)\n",
    "RMSE = np.sqrt(((predict - y_test)**2).mean())\n",
    "RMSE"
   ]
  },
  {
   "cell_type": "code",
   "execution_count": 14,
   "id": "a03fa567",
   "metadata": {},
   "outputs": [
    {
     "data": {
      "text/plain": [
       "60.47239199190421"
      ]
     },
     "execution_count": 14,
     "metadata": {},
     "output_type": "execute_result"
    }
   ],
   "source": [
    "X_train, X_test, y_train, y_test = train_test_split(X_poly, y, test_size=0.20, random_state=42)\n",
    "reg.fit(X_train, y_train)\n",
    "predict = reg.predict(X_test)\n",
    "RMSE = np.sqrt(((predict - y_test)**2).mean())\n",
    "RMSE"
   ]
  },
  {
   "cell_type": "code",
   "execution_count": 15,
   "id": "e58d9940",
   "metadata": {},
   "outputs": [
    {
     "name": "stdout",
     "output_type": "stream",
     "text": [
      "30.38150441891701\n",
      "60.47239199190421\n"
     ]
    }
   ],
   "source": [
    "# really, to check for overfitting we need to compare training and test performance\n",
    "\n",
    "X_train, X_test, y_train, y_test = train_test_split(X_poly, y, test_size=0.20, random_state=42)\n",
    "reg.fit(X_train, y_train)\n",
    "\n",
    "# rmse on training data\n",
    "predict = reg.predict(X_train)\n",
    "RMSE = np.sqrt(((predict - y_train)**2).mean())\n",
    "print(RMSE)\n",
    "\n",
    "# rmse on test data\n",
    "predict = reg.predict(X_test)\n",
    "RMSE = np.sqrt(((predict - y_test)**2).mean())\n",
    "print(RMSE)"
   ]
  }
 ],
 "metadata": {
  "kernelspec": {
   "display_name": "Python 3 (ipykernel)",
   "language": "python",
   "name": "python3"
  },
  "language_info": {
   "codemirror_mode": {
    "name": "ipython",
    "version": 3
   },
   "file_extension": ".py",
   "mimetype": "text/x-python",
   "name": "python",
   "nbconvert_exporter": "python",
   "pygments_lexer": "ipython3",
   "version": "3.9.7"
  }
 },
 "nbformat": 4,
 "nbformat_minor": 5
}
