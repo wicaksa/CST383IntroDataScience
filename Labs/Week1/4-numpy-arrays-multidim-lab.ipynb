{
 "cells": [
  {
   "cell_type": "markdown",
   "metadata": {},
   "source": [
    "# -*- coding: utf-8 -*-\n",
    "Multidimensional NumPy arrays lab\n",
    "Enter your Python code after each prompt.\n",
    "@author: Glenn Bruns\n"
   ]
  },
  {
   "cell_type": "code",
   "execution_count": 8,
   "metadata": {},
   "outputs": [],
   "source": [
    "import random\n",
    "import numpy as np\n",
    "import pandas as pd"
   ]
  },
  {
   "cell_type": "markdown",
   "metadata": {},
   "source": [
    "Read student exam score data as a 2D NumPy array."
   ]
  },
  {
   "cell_type": "code",
   "execution_count": 54,
   "metadata": {},
   "outputs": [
    {
     "data": {
      "text/plain": [
       "array([[3, 1, 0, ..., 2, 1, 1],\n",
       "       [3, 2, 0, ..., 1, 1, 3],\n",
       "       [3, 2, 3, ..., 3, 1, 0],\n",
       "       ...,\n",
       "       [3, 2, 3, ..., 3, 0, 2],\n",
       "       [3, 3, 0, ..., 1, 2, 2],\n",
       "       [3, 0, 0, ..., 1, 0, 0]])"
      ]
     },
     "execution_count": 54,
     "metadata": {},
     "output_type": "execute_result"
    }
   ],
   "source": [
    "df = pd.read_csv(\"https://raw.githubusercontent.com/grbruns/cst383/master/sample-grades.csv\").values\n",
    "df = np.array(df)"
   ]
  },
  {
   "cell_type": "markdown",
   "metadata": {},
   "source": [
    "Print the score for the first student (row 0) and the third problem (column 2)."
   ]
  },
  {
   "cell_type": "code",
   "execution_count": 72,
   "metadata": {},
   "outputs": [
    {
     "name": "stdout",
     "output_type": "stream",
     "text": [
      "0\n"
     ]
    }
   ],
   "source": [
    "print(df[0,2])"
   ]
  },
  {
   "cell_type": "markdown",
   "metadata": {},
   "source": [
    "Print all scores for student 15 (meaning row 15)."
   ]
  },
  {
   "cell_type": "code",
   "execution_count": 63,
   "metadata": {},
   "outputs": [
    {
     "name": "stdout",
     "output_type": "stream",
     "text": [
      "[3 1 3 3 3 3 3 3 0 3 0 1 0 3 3 0 3 3 3 3 3 3 3 0 3 2 3 3 1 2 3 1 0]\n"
     ]
    }
   ],
   "source": [
    "print(df[14])"
   ]
  },
  {
   "cell_type": "markdown",
   "metadata": {},
   "source": [
    "Print all scores for problems 0-3."
   ]
  },
  {
   "cell_type": "code",
   "execution_count": 64,
   "metadata": {},
   "outputs": [
    {
     "name": "stdout",
     "output_type": "stream",
     "text": [
      "[[3 1 0 3]\n",
      " [3 2 0 3]\n",
      " [3 2 3 3]\n",
      " [3 2 0 3]\n",
      " [0 2 3 3]\n",
      " [0 1 3 3]\n",
      " [0 2 3 3]\n",
      " [3 3 3 3]\n",
      " [3 1 3 3]\n",
      " [0 2 3 3]\n",
      " [0 3 3 3]\n",
      " [3 2 3 3]\n",
      " [3 2 3 3]\n",
      " [3 3 3 3]\n",
      " [3 1 3 3]\n",
      " [3 2 0 3]\n",
      " [3 2 3 3]\n",
      " [3 3 3 3]\n",
      " [3 2 0 3]\n",
      " [0 3 3 3]\n",
      " [0 0 3 3]\n",
      " [3 2 3 3]\n",
      " [3 2 0 3]\n",
      " [0 1 3 3]\n",
      " [0 0 3 3]\n",
      " [3 1 3 3]\n",
      " [3 2 3 3]\n",
      " [0 2 3 3]\n",
      " [0 3 3 3]\n",
      " [0 2 0 3]\n",
      " [0 1 0 3]\n",
      " [3 2 0 3]\n",
      " [0 1 0 3]\n",
      " [3 2 3 3]\n",
      " [3 2 3 3]\n",
      " [3 2 3 3]\n",
      " [3 2 3 0]\n",
      " [3 3 3 3]\n",
      " [0 2 3 3]\n",
      " [0 2 3 3]\n",
      " [3 3 3 3]\n",
      " [3 2 0 3]\n",
      " [3 2 3 3]\n",
      " [3 2 3 3]\n",
      " [0 2 3 3]\n",
      " [3 2 3 3]\n",
      " [3 3 3 3]\n",
      " [3 2 3 3]\n",
      " [3 3 0 3]\n",
      " [3 0 0 3]]\n"
     ]
    }
   ],
   "source": [
    "print(df[:,[0,1,2,3]])"
   ]
  },
  {
   "cell_type": "markdown",
   "metadata": {},
   "source": [
    "Print all scores for problems 1, 5, 7."
   ]
  },
  {
   "cell_type": "code",
   "execution_count": 65,
   "metadata": {},
   "outputs": [
    {
     "name": "stdout",
     "output_type": "stream",
     "text": [
      "[[1 3 0]\n",
      " [2 3 3]\n",
      " [2 3 3]\n",
      " [2 3 3]\n",
      " [2 3 3]\n",
      " [1 3 3]\n",
      " [2 3 3]\n",
      " [3 3 3]\n",
      " [1 3 0]\n",
      " [2 3 0]\n",
      " [3 3 3]\n",
      " [2 3 3]\n",
      " [2 3 3]\n",
      " [3 3 3]\n",
      " [1 3 3]\n",
      " [2 3 0]\n",
      " [2 3 3]\n",
      " [3 3 3]\n",
      " [2 3 3]\n",
      " [3 3 0]\n",
      " [0 3 3]\n",
      " [2 0 3]\n",
      " [2 3 3]\n",
      " [1 3 3]\n",
      " [0 3 0]\n",
      " [1 3 0]\n",
      " [2 3 3]\n",
      " [2 3 3]\n",
      " [3 3 3]\n",
      " [2 3 3]\n",
      " [1 3 0]\n",
      " [2 3 3]\n",
      " [1 3 3]\n",
      " [2 3 3]\n",
      " [2 3 3]\n",
      " [2 3 3]\n",
      " [2 3 3]\n",
      " [3 3 3]\n",
      " [2 3 0]\n",
      " [2 3 3]\n",
      " [3 3 3]\n",
      " [2 3 3]\n",
      " [2 3 0]\n",
      " [2 3 0]\n",
      " [2 3 3]\n",
      " [2 3 0]\n",
      " [3 3 0]\n",
      " [2 3 3]\n",
      " [3 3 3]\n",
      " [0 0 3]]\n"
     ]
    }
   ],
   "source": [
    "print(df[:,[1,5,7]])"
   ]
  },
  {
   "cell_type": "markdown",
   "metadata": {},
   "source": [
    "Assign the number of students to variable 'num_students'."
   ]
  },
  {
   "cell_type": "code",
   "execution_count": 67,
   "metadata": {},
   "outputs": [],
   "source": [
    "num_students = len(df)\n",
    "#print(num_students)"
   ]
  },
  {
   "cell_type": "markdown",
   "metadata": {},
   "source": [
    "Run the following command to get random data representing scores\n",
    "on two additional extra credit problems."
   ]
  },
  {
   "cell_type": "code",
   "execution_count": 60,
   "metadata": {},
   "outputs": [],
   "source": [
    "ec = np.random.choice(np.array([0,1,2,3], dtype='int64'), size=num_students*2).reshape(num_students, 2)"
   ]
  },
  {
   "cell_type": "markdown",
   "metadata": {},
   "source": [
    "Print the shape of ec."
   ]
  },
  {
   "cell_type": "code",
   "execution_count": 61,
   "metadata": {},
   "outputs": [
    {
     "name": "stdout",
     "output_type": "stream",
     "text": [
      "(50, 2)\n"
     ]
    }
   ],
   "source": [
    "print(ec.shape)"
   ]
  },
  {
   "cell_type": "markdown",
   "metadata": {},
   "source": [
    "Update df so that the two rightmost columns are the data in array ec."
   ]
  },
  {
   "cell_type": "code",
   "execution_count": 80,
   "metadata": {},
   "outputs": [],
   "source": [
    "df = np.hstack([df,ec])\n",
    "# np.concatenate([df, np.array([[1], [1]]).dot(ec)], axis = 1)"
   ]
  },
  {
   "cell_type": "markdown",
   "metadata": {},
   "source": [
    "Print the mean value of all the scores."
   ]
  },
  {
   "cell_type": "code",
   "execution_count": 85,
   "metadata": {},
   "outputs": [
    {
     "name": "stdout",
     "output_type": "stream",
     "text": [
      "1.867659574468085\n"
     ]
    }
   ],
   "source": [
    "print(df.mean())"
   ]
  },
  {
   "cell_type": "markdown",
   "metadata": {},
   "source": [
    "Print the number of scores > 2  (np.sum applied to a boolean mask will give the number of True values in the mask))."
   ]
  },
  {
   "cell_type": "code",
   "execution_count": 97,
   "metadata": {},
   "outputs": [
    {
     "name": "stdout",
     "output_type": "stream",
     "text": [
      "1162\n"
     ]
    }
   ],
   "source": [
    "print(np.sum(df > 2))\n",
    "# or print((df > 2).sum())"
   ]
  },
  {
   "cell_type": "markdown",
   "metadata": {},
   "source": [
    "Using a list comprehension, compute the total score for each student\n",
    "and assign the result to variable 'totals' as a NumPy array."
   ]
  },
  {
   "cell_type": "code",
   "execution_count": 112,
   "metadata": {},
   "outputs": [
    {
     "name": "stdout",
     "output_type": "stream",
     "text": [
      "[ 90  85 114  62  66  71  72 114 100  47  81  66  96 126  92  90 120 103\n",
      " 117 106  96 117  93  75  72  86  99  76  92  71  65  90  94  81 102 125\n",
      "  75 107  70  92  95  65  79  80  91  84 103  77  74  45]\n"
     ]
    }
   ],
   "source": [
    "totals = np.array([sum(x) for x in df])\n",
    "print(totals)"
   ]
  },
  {
   "cell_type": "markdown",
   "metadata": {},
   "source": [
    "Print the dtype of totals; it should be int64."
   ]
  },
  {
   "cell_type": "code",
   "execution_count": 113,
   "metadata": {},
   "outputs": [
    {
     "name": "stdout",
     "output_type": "stream",
     "text": [
      "int64\n"
     ]
    }
   ],
   "source": [
    "print(totals.dtype)"
   ]
  },
  {
   "cell_type": "markdown",
   "metadata": {},
   "source": [
    "Assign the number of columns to variable 'num_problems'."
   ]
  },
  {
   "cell_type": "code",
   "execution_count": 114,
   "metadata": {},
   "outputs": [
    {
     "name": "stdout",
     "output_type": "stream",
     "text": [
      "50\n"
     ]
    }
   ],
   "source": [
    "num_problems = len(df)\n",
    "print(num_problems)"
   ]
  },
  {
   "cell_type": "markdown",
   "metadata": {},
   "source": [
    "Using a list comprehension, compute the average score for each\n",
    "problem and assign the result to variable 'prob_means' as a NumPy array."
   ]
  },
  {
   "cell_type": "code",
   "execution_count": 119,
   "metadata": {},
   "outputs": [
    {
     "name": "stdout",
     "output_type": "stream",
     "text": [
      "[1.98 1.92 2.22 2.94 2.1  2.88 2.   2.22 2.4  2.16 2.14 2.18 1.86 2.82\n",
      " 2.64 1.44 2.56 2.3  2.04 2.56 2.46 2.7  2.34 1.5  2.08 1.88 1.56 1.6\n",
      " 1.2  0.68 1.38 1.28 0.62 1.48 1.54 1.48 1.54 1.48 1.54 1.48 1.54 1.48\n",
      " 1.54 1.48 1.54 1.48 1.54]\n"
     ]
    }
   ],
   "source": [
    "prob_means = np.array([(sum(i)/num_problems) for i in zip(*df)])\n",
    "print(prob_means)"
   ]
  },
  {
   "cell_type": "markdown",
   "metadata": {},
   "source": [
    "What is the lowest of the average score values?"
   ]
  },
  {
   "cell_type": "code",
   "execution_count": 120,
   "metadata": {},
   "outputs": [
    {
     "name": "stdout",
     "output_type": "stream",
     "text": [
      "0.62\n"
     ]
    }
   ],
   "source": [
    "print(prob_means.min())"
   ]
  },
  {
   "cell_type": "markdown",
   "metadata": {},
   "source": [
    "Is it legal to subtract an array with shape (35,) from an \n",
    "array with shape (50,35)?  If so, what will happen?  Write\n",
    "your answer as a comment."
   ]
  },
  {
   "cell_type": "code",
   "execution_count": 121,
   "metadata": {},
   "outputs": [],
   "source": [
    "# No.\n",
    "# The array (35,) will become (1,35), and will be subtracted\n",
    "# from each row of the (50,35) array"
   ]
  },
  {
   "cell_type": "markdown",
   "metadata": {},
   "source": [
    "Compute a new array df_centered, which is a 2D array with\n",
    "the same shape as df, but contains, for each column, the\n",
    "column values minus the average value for each column."
   ]
  },
  {
   "cell_type": "code",
   "execution_count": 143,
   "metadata": {},
   "outputs": [],
   "source": [
    "# Sum of columns as 2D array.\n",
    "df_centered = np.array([sum(i) for i in zip(*df)])\n",
    "# Difference b/w each column - mean from each column \n",
    "df_centered = np.subtract(df_centered, prob_means)"
   ]
  },
  {
   "cell_type": "markdown",
   "metadata": {},
   "source": [
    "What do you expect as the average values of the columns of<br>\n",
    "dat_centered?  Print the result to find out."
   ]
  },
  {
   "cell_type": "code",
   "execution_count": 144,
   "metadata": {
    "scrolled": true
   },
   "outputs": [
    {
     "name": "stdout",
     "output_type": "stream",
     "text": [
      "[ 97.02  94.08 108.78 144.06 102.9  141.12  98.   108.78 117.6  105.84\n",
      " 104.86 106.82  91.14 138.18 129.36  70.56 125.44 112.7   99.96 125.44\n",
      " 120.54 132.3  114.66  73.5  101.92  92.12  76.44  78.4   58.8   33.32\n",
      "  67.62  62.72  30.38  72.52  75.46  72.52  75.46  72.52  75.46  72.52\n",
      "  75.46  72.52  75.46  72.52  75.46  72.52  75.46]\n"
     ]
    }
   ],
   "source": [
    "print(df_centered)"
   ]
  },
  {
   "cell_type": "markdown",
   "metadata": {},
   "source": [
    "consider extending idea about length of student trips, but make a matrix,<br>\n",
    "where each row is a student, and 'mpg', 'miles' are columns.  In a separate<br>\n",
    "array, show prices of gas at several gas stations.  "
   ]
  },
  {
   "cell_type": "code",
   "execution_count": null,
   "metadata": {},
   "outputs": [],
   "source": []
  }
 ],
 "metadata": {
  "kernelspec": {
   "display_name": "Python 3 (ipykernel)",
   "language": "python",
   "name": "python3"
  },
  "language_info": {
   "codemirror_mode": {
    "name": "ipython",
    "version": 3
   },
   "file_extension": ".py",
   "mimetype": "text/x-python",
   "name": "python",
   "nbconvert_exporter": "python",
   "pygments_lexer": "ipython3",
   "version": "3.9.7"
  }
 },
 "nbformat": 4,
 "nbformat_minor": 2
}
