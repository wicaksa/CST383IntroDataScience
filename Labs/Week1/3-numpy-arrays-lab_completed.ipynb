{
 "cells": [
  {
   "cell_type": "markdown",
   "metadata": {
    "colab_type": "text",
    "id": "bUpaT2av5c2R"
   },
   "source": [
    "# NumPy arrays lab\n",
    "\n",
    "Enter your code below each comment\n",
    "\n"
   ]
  },
  {
   "cell_type": "code",
   "execution_count": 1,
   "metadata": {
    "colab": {},
    "colab_type": "code",
    "id": "2FXebNIh53WJ"
   },
   "outputs": [],
   "source": [
    "import random\n",
    "import numpy as np"
   ]
  },
  {
   "cell_type": "markdown",
   "metadata": {
    "colab_type": "text",
    "id": "12QFZc9F6G54"
   },
   "source": [
    "Here is a list of the mileage (given in MPG) of students in my last class: 21.1, 26.6, 16.3, 33.7, 31.2, 52.0, 27.1\n",
    "\n",
    "Create a NumPy array named 'mpg' from these values (use the given order)."
   ]
  },
  {
   "cell_type": "code",
   "execution_count": 2,
   "metadata": {
    "colab": {},
    "colab_type": "code",
    "id": "0aXxRTGaguUq"
   },
   "outputs": [],
   "source": [
    "mpg = np.array([21.1, 126.6, 16.3, 33.7, 31.2, 52.0, 27.1])"
   ]
  },
  {
   "cell_type": "markdown",
   "metadata": {
    "colab_type": "text",
    "id": "3dc6T9KBgzO7"
   },
   "source": [
    "Create a new array x that has the same length as mpg but every value is 25.0  (use the NumPy size property of mpg)."
   ]
  },
  {
   "cell_type": "code",
   "execution_count": 3,
   "metadata": {
    "colab": {},
    "colab_type": "code",
    "id": "8xLU_nSzg6rK"
   },
   "outputs": [],
   "source": [
    "x = np.array([25.0] * mpg.size)"
   ]
  },
  {
   "cell_type": "markdown",
   "metadata": {
    "colab_type": "text",
    "id": "52oENWulg7fq"
   },
   "source": [
    "print the mileage of the third student"
   ]
  },
  {
   "cell_type": "code",
   "execution_count": 4,
   "metadata": {
    "colab": {},
    "colab_type": "code",
    "id": "2u6ytE7phBc6"
   },
   "outputs": [
    {
     "name": "stdout",
     "output_type": "stream",
     "text": [
      "16.3\n"
     ]
    }
   ],
   "source": [
    "print(mpg[2])"
   ]
  },
  {
   "cell_type": "markdown",
   "metadata": {
    "colab_type": "text",
    "id": "7SbD-Z2KhCFC"
   },
   "source": [
    "print the mileage of the last student"
   ]
  },
  {
   "cell_type": "code",
   "execution_count": 5,
   "metadata": {
    "colab": {},
    "colab_type": "code",
    "id": "mBN0CuR2hERC"
   },
   "outputs": [
    {
     "name": "stdout",
     "output_type": "stream",
     "text": [
      "27.1\n"
     ]
    }
   ],
   "source": [
    "print(mpg[-1])"
   ]
  },
  {
   "cell_type": "markdown",
   "metadata": {
    "colab_type": "text",
    "id": "DahQZL4dhEzL"
   },
   "source": [
    "print the mileage of the first to the third students"
   ]
  },
  {
   "cell_type": "markdown",
   "metadata": {
    "colab": {},
    "colab_type": "code",
    "id": "v6SvzhOuhI-6"
   },
   "source": [
    "print(mpg[0:3])"
   ]
  },
  {
   "cell_type": "markdown",
   "metadata": {
    "colab_type": "text",
    "id": "urgmqUD0hNyq"
   },
   "source": [
    "print the mileage of every other student, starting with the first"
   ]
  },
  {
   "cell_type": "markdown",
   "metadata": {
    "colab": {},
    "colab_type": "code",
    "id": "AolY0Sa8hQM-"
   },
   "source": [
    "print(mpg[::2])"
   ]
  },
  {
   "cell_type": "markdown",
   "metadata": {
    "colab_type": "text",
    "id": "eRT2aR-WhJh6"
   },
   "source": [
    " Can you print the same mileages, but in reverse order?"
   ]
  },
  {
   "cell_type": "markdown",
   "metadata": {
    "colab": {},
    "colab_type": "code",
    "id": "gbda8QREhUe5"
   },
   "source": [
    "print(mpg[::-1])"
   ]
  },
  {
   "cell_type": "markdown",
   "metadata": {
    "colab_type": "text",
    "id": "VmcR2J2ZhVE7"
   },
   "source": [
    " make a copy of mpg, named mpg2"
   ]
  },
  {
   "cell_type": "code",
   "execution_count": 6,
   "metadata": {
    "colab": {},
    "colab_type": "code",
    "id": "xEvXANdwhXsS"
   },
   "outputs": [],
   "source": [
    "mpg2 = mpg.copy()"
   ]
  },
  {
   "cell_type": "markdown",
   "metadata": {
    "colab_type": "text",
    "id": "uCoRYu_AhYQK"
   },
   "source": [
    "print the concatenation of mpg and mpg2\n"
   ]
  },
  {
   "cell_type": "code",
   "execution_count": 7,
   "metadata": {
    "colab": {},
    "colab_type": "code",
    "id": "L5MB1pFphbkh"
   },
   "outputs": [
    {
     "name": "stdout",
     "output_type": "stream",
     "text": [
      "[ 21.1 126.6  16.3  33.7  31.2  52.   27.1  21.1 126.6  16.3  33.7  31.2\n",
      "  52.   27.1]\n"
     ]
    }
   ],
   "source": [
    "print(np.concatenate((mpg, mpg2), axis=0))"
   ]
  },
  {
   "cell_type": "markdown",
   "metadata": {
    "colab_type": "text",
    "id": "QEHN1GOwhcdC"
   },
   "source": [
    "print the data type (dtype) of mpg"
   ]
  },
  {
   "cell_type": "code",
   "execution_count": 8,
   "metadata": {
    "colab": {},
    "colab_type": "code",
    "id": "LMNbdGCghetC"
   },
   "outputs": [
    {
     "data": {
      "text/plain": [
       "dtype('float64')"
      ]
     },
     "execution_count": 8,
     "metadata": {},
     "output_type": "execute_result"
    }
   ],
   "source": [
    "mpg.dtype"
   ]
  },
  {
   "cell_type": "markdown",
   "metadata": {
    "colab_type": "text",
    "id": "yk5cTRaQhfgU"
   },
   "source": [
    "add 5.0 to every element of mpg2"
   ]
  },
  {
   "cell_type": "code",
   "execution_count": 9,
   "metadata": {
    "colab": {},
    "colab_type": "code",
    "id": "RuexJEf5hhjC"
   },
   "outputs": [
    {
     "data": {
      "text/plain": [
       "array([ 26.1, 131.6,  21.3,  38.7,  36.2,  57. ,  32.1])"
      ]
     },
     "execution_count": 9,
     "metadata": {},
     "output_type": "execute_result"
    }
   ],
   "source": [
    "mpg2 + (5.0)"
   ]
  },
  {
   "cell_type": "markdown",
   "metadata": {
    "colab_type": "text",
    "id": "8evL2otqhiES"
   },
   "source": [
    "Create a NumPy array 'miles' giving the distances each student has to travel to CSUMB.  The values are:\n",
    "\n",
    "8.1, 5.4, 12.8, 42.1, 15.0, 22.2, 18.5"
   ]
  },
  {
   "cell_type": "code",
   "execution_count": 10,
   "metadata": {
    "colab": {},
    "colab_type": "code",
    "id": "L8hvrjGPhnMC"
   },
   "outputs": [],
   "source": [
    "miles = np.array([8.1, 5.4, 12.8, 42.1, 15.0, 22.2, 18.5])"
   ]
  },
  {
   "cell_type": "markdown",
   "metadata": {
    "colab_type": "text",
    "id": "Qm7_XikZhnta"
   },
   "source": [
    "The gallons used by a student in a round trip to CSUMB is the round-trip distance divided by miles-per-gallon.  Using vectorized operations, compute the number of gallons used by each student in a round trip to CSUMB.  Assign the result to variable 'gallons'.\n"
   ]
  },
  {
   "cell_type": "code",
   "execution_count": 11,
   "metadata": {
    "colab": {},
    "colab_type": "code",
    "id": "YQoRqyVrhtKS"
   },
   "outputs": [],
   "source": [
    "gallons = np.divide(miles, mpg)"
   ]
  },
  {
   "cell_type": "markdown",
   "metadata": {
    "colab_type": "text",
    "id": "KjkqPqOuht2i"
   },
   "source": [
    " Create a boolean array that is True for every element of gallons that is less than 1.  Assign it to variable 'low_gas'."
   ]
  },
  {
   "cell_type": "code",
   "execution_count": 12,
   "metadata": {
    "colab": {},
    "colab_type": "code",
    "id": "UfuWqidAhxiy"
   },
   "outputs": [],
   "source": [
    "low_gas = gallons < 1.0"
   ]
  },
  {
   "cell_type": "markdown",
   "metadata": {
    "colab_type": "text",
    "id": "ZT8_WAPuhyXa"
   },
   "source": [
    "Use a boolean mask to get the values in gallons that are less than 1"
   ]
  },
  {
   "cell_type": "code",
   "execution_count": 13,
   "metadata": {},
   "outputs": [
    {
     "data": {
      "text/plain": [
       "array([0.38388626, 0.04265403, 0.78527607, 0.48076923, 0.42692308,\n",
       "       0.68265683])"
      ]
     },
     "execution_count": 13,
     "metadata": {},
     "output_type": "execute_result"
    }
   ],
   "source": [
    "gallons[low_gas]"
   ]
  },
  {
   "cell_type": "markdown",
   "metadata": {
    "colab_type": "text",
    "id": "8uzJZ7_yh1sy"
   },
   "source": [
    "Run the following line of code, which creates an array of a million random numbers between 0 and 1."
   ]
  },
  {
   "cell_type": "code",
   "execution_count": 14,
   "metadata": {
    "colab": {},
    "colab_type": "code",
    "id": "S8Ll0iQ7h1P6"
   },
   "outputs": [],
   "source": [
    "x = np.array([random.random() for _ in range(10000000)])"
   ]
  },
  {
   "cell_type": "markdown",
   "metadata": {
    "colab_type": "text",
    "id": "gkz6Sv-Ch9uL"
   },
   "source": [
    " write a python loop to compute the sum of the values in x"
   ]
  },
  {
   "cell_type": "code",
   "execution_count": 15,
   "metadata": {
    "colab": {},
    "colab_type": "code",
    "id": "l4Ev6ABXiAHj"
   },
   "outputs": [],
   "source": [
    "sum = 0 \n",
    "for i in range(0, len(x)):\n",
    "    sum += x[i]"
   ]
  },
  {
   "cell_type": "markdown",
   "metadata": {
    "colab_type": "text",
    "id": "7VO0HQDeiAxC"
   },
   "source": [
    "Define a Python function named 'array_sum' that will return the sum of the specified NumPy array x.\n"
   ]
  },
  {
   "cell_type": "code",
   "execution_count": 16,
   "metadata": {
    "colab": {},
    "colab_type": "code",
    "id": "W4infKheiFdK"
   },
   "outputs": [],
   "source": [
    "def array_sum(nums):\n",
    "    total = 0\n",
    "    for i in range(0, len(x)):\n",
    "        total += nums[i]\n",
    "    return total"
   ]
  },
  {
   "cell_type": "markdown",
   "metadata": {
    "colab_type": "text",
    "id": "F_uCrF_-iGJS"
   },
   "source": [
    "Measure how long it takes for your function to sum the elements of the big array x you defined earlier.\n",
    "\n",
    "hint: use %timeit"
   ]
  },
  {
   "cell_type": "code",
   "execution_count": 17,
   "metadata": {
    "colab": {},
    "colab_type": "code",
    "id": "E4b38ggLiMJq"
   },
   "outputs": [
    {
     "name": "stdout",
     "output_type": "stream",
     "text": [
      "1.26 s ± 67.8 ms per loop (mean ± std. dev. of 7 runs, 1 loop each)\n"
     ]
    }
   ],
   "source": [
    "%timeit array_sum(x)"
   ]
  },
  {
   "cell_type": "markdown",
   "metadata": {
    "colab_type": "text",
    "id": "FEM6PHRUiOuD"
   },
   "source": [
    "now measure how long it takes to do the same thing using np.sum"
   ]
  },
  {
   "cell_type": "code",
   "execution_count": 18,
   "metadata": {
    "colab": {},
    "colab_type": "code",
    "id": "oRUT2ZV_iQMK"
   },
   "outputs": [
    {
     "name": "stdout",
     "output_type": "stream",
     "text": [
      "4.65 ms ± 403 µs per loop (mean ± std. dev. of 7 runs, 100 loops each)\n"
     ]
    }
   ],
   "source": [
    "%timeit np.sum(x)"
   ]
  },
  {
   "cell_type": "markdown",
   "metadata": {
    "colab_type": "text",
    "id": "ohsEFwrsiQsL"
   },
   "source": [
    "write code to show that slicing does not copy the input data"
   ]
  },
  {
   "cell_type": "code",
   "execution_count": 19,
   "metadata": {
    "colab": {},
    "colab_type": "code",
    "id": "vAXxl17liVx6"
   },
   "outputs": [
    {
     "name": "stdout",
     "output_type": "stream",
     "text": [
      "[0 2 3 4 5]\n",
      "[0 2 3]\n"
     ]
    }
   ],
   "source": [
    "x = np.array([1,2,3,4,5])\n",
    "y = x[:3]\n",
    "y[0] = 0\n",
    "print(x)\n",
    "print(y)\n",
    "# changes the original copy x"
   ]
  },
  {
   "cell_type": "markdown",
   "metadata": {
    "colab_type": "text",
    "id": "FfJbtgsJiW20"
   },
   "source": [
    "If you still have time, learn about some of the \"magic commands\" available in IPython.\n",
    "\n",
    "https://ipython.org/ipython-doc/3/interactive/magics.html"
   ]
  },
  {
   "cell_type": "code",
   "execution_count": null,
   "metadata": {},
   "outputs": [],
   "source": []
  }
 ],
 "metadata": {
  "colab": {
   "collapsed_sections": [],
   "name": "3-numpy-arrays-lab.ipynb",
   "provenance": []
  },
  "kernelspec": {
   "display_name": "Python 3 (ipykernel)",
   "language": "python",
   "name": "python3"
  },
  "language_info": {
   "codemirror_mode": {
    "name": "ipython",
    "version": 3
   },
   "file_extension": ".py",
   "mimetype": "text/x-python",
   "name": "python",
   "nbconvert_exporter": "python",
   "pygments_lexer": "ipython3",
   "version": "3.9.7"
  }
 },
 "nbformat": 4,
 "nbformat_minor": 1
}
